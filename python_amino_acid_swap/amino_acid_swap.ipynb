{
  "nbformat": 4,
  "nbformat_minor": 0,
  "metadata": {
    "colab": {
      "provenance": [],
      "authorship_tag": "ABX9TyMfaJkSPwPe9yE5euqm55o/",
      "include_colab_link": true
    },
    "kernelspec": {
      "name": "python3",
      "display_name": "Python 3"
    },
    "language_info": {
      "name": "python"
    }
  },
  "cells": [
    {
      "cell_type": "markdown",
      "metadata": {
        "id": "view-in-github",
        "colab_type": "text"
      },
      "source": [
        "<a href=\"https://colab.research.google.com/github/comparativechrono/VariantFold/blob/main/python_amino_acid_swap/amino_acid_swap.ipynb\" target=\"_parent\"><img src=\"https://colab.research.google.com/assets/colab-badge.svg\" alt=\"Open In Colab\"/></a>"
      ]
    },
    {
      "cell_type": "code",
      "execution_count": null,
      "metadata": {
        "colab": {
          "base_uri": "https://localhost:8080/"
        },
        "id": "X9XLErbcrFqr",
        "outputId": "42f36ead-f8a4-429e-f7a3-7c5711a7cf75"
      },
      "outputs": [
        {
          "output_type": "stream",
          "name": "stdout",
          "text": [
            "Original sequence: MAEGEITTFTALTEKFNLPPGNYKKPKLLYCSNGGHFLRILPDGTVDGTRDRSDQHIQLQLSAESVGEVYIKSTETGQYLAMDTSGLLYGSQTPSEECLFLERLEENHYNTYTSKKHAEKNWFVGLKKNGSCKRGPRTHYGQKAILFLPLPV\n",
            "New sequence: MAQGEITTFTALTEKFNLPPGNYKKPKLLYCSNGGHFLRILPDGTVDGTRDRSDQHIQLQLSAESVGEVYIKSTETGQYLAMDTSGLLYGSQTPSEECLFLERLEENHYNTYTSKKHAEKNWFVGLKKNGSCKRGPRTHYGQKAILFLPLPV\n"
          ]
        }
      ],
      "source": [
        "def swap_amino_acid(seq, position, new_aa):\n",
        "    \"\"\"\n",
        "    Swap an amino acid at a specified position for one specified by the user.\n",
        "    :param seq: protein amino acid sequence\n",
        "    :param position: position of the amino acid to be swapped (starting from 1)\n",
        "    :param new_aa: new amino acid to be substituted at the specified position\n",
        "    :return: altered protein sequence\n",
        "    \"\"\"\n",
        "    aa_list = list(seq)\n",
        "    aa_list[position - 1] = new_aa\n",
        "    altered_seq = ''.join(aa_list)\n",
        "    return altered_seq\n",
        "\n",
        "\n",
        "# Example usage:\n",
        "original_sequence = 'MAEGEITTFTALTEKFNLPPGNYKKPKLLYCSNGGHFLRILPDGTVDGTRDRSDQHIQLQLSAESVGEVYIKSTETGQYLAMDTSGLLYGSQTPSEECLFLERLEENHYNTYTSKKHAEKNWFVGLKKNGSCKRGPRTHYGQKAILFLPLPV'\n",
        "print(f\"Original sequence: {original_sequence}\")\n",
        "new_sequence = swap_amino_acid(original_sequence, 3, 'Q')\n",
        "print(f\"New sequence: {new_sequence}\")\n"
      ]
    },
    {
      "cell_type": "code",
      "source": [
        "def swap_amino_acid(seq, position, new_aa):\n",
        "    \"\"\"\n",
        "    Swap an amino acid at a specified position for one specified by the user.\n",
        "    :param seq: protein amino acid sequence\n",
        "    :param position: position of the amino acid to be swapped (starting from 1)\n",
        "    :param new_aa: new amino acid to be substituted at the specified position\n",
        "    :return: altered protein sequence\n",
        "    \"\"\"\n",
        "    aa_list = list(seq)\n",
        "    aa_list[position - 1] = new_aa\n",
        "    altered_seq = ''.join(aa_list)\n",
        "    return altered_seq\n",
        "\n",
        "\n",
        "# Read the original sequence from a text file\n",
        "with open(\"original_sequence.txt\", \"r\") as f:\n",
        "    original_sequence = f.read()\n",
        "\n",
        "# Generate the new sequence by swapping the amino acid at position 5 for a glutamine (Q)\n",
        "new_sequence = swap_amino_acid(original_sequence, 5, 'Q')\n",
        "\n",
        "# Print the new sequence to the console\n",
        "print(f\"New sequence: {new_sequence}\")\n",
        "\n",
        "# Write the new sequence to a file\n",
        "with open(\"new_sequence.txt\", \"w\") as f:\n",
        "    f.write(new_sequence)\n"
      ],
      "metadata": {
        "id": "DiFIiZXVsFDZ"
      },
      "execution_count": null,
      "outputs": []
    },
    {
      "cell_type": "code",
      "source": [
        "def swap_amino_acid(seq, position, new_aa):\n",
        "    \"\"\"\n",
        "    Swap an amino acid at a specified position for one specified by the user.\n",
        "    :param seq: protein amino acid sequence\n",
        "    :param position: position of the amino acid to be swapped (starting from 1)\n",
        "    :param new_aa: new amino acid to be substituted at the specified position\n",
        "    :return: altered protein sequence\n",
        "    \"\"\"\n",
        "    aa_list = list(seq)\n",
        "    aa_list[position - 1] = new_aa\n",
        "    altered_seq = ''.join(aa_list)\n",
        "    return altered_seq\n",
        "\n",
        "\n",
        "# Read the original sequence from a text file\n",
        "with open(\"original_sequence.txt\", \"r\") as f:\n",
        "    original_sequence = f.read()\n",
        "\n",
        "# Read the variants table from a text file\n",
        "with open(\"variants_table.txt\", \"r\") as f:\n",
        "    variants = [line.strip().split() for line in f]\n",
        "\n",
        "# Apply the swap_amino_acid function to each variant and write an output file for each one\n",
        "for variant in variants:\n",
        "    position, new_aa = variant\n",
        "    new_sequence = swap_amino_acid(original_sequence, int(position), new_aa)\n",
        "    output_filename = f\"{position}_{new_aa}.txt\"\n",
        "    with open(output_filename, \"w\") as f:\n",
        "        f.write(new_sequence)\n"
      ],
      "metadata": {
        "id": "zGxGMzrgteAr"
      },
      "execution_count": null,
      "outputs": []
    }
  ]
}